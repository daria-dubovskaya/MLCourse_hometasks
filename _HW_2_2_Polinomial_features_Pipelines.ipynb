{
  "nbformat": 4,
  "nbformat_minor": 0,
  "metadata": {
    "colab": {
      "provenance": []
    },
    "kernelspec": {
      "name": "python3",
      "display_name": "Python 3"
    },
    "language_info": {
      "name": "python"
    }
  },
  "cells": [
    {
      "cell_type": "markdown",
      "source": [
        "В цьому домашньому завданні ми проведемо додаткові експерименти для рішення задачі бінарної класифікації і створимо ваш новий submission на змагання на Kaggle.\n",
        "\n",
        "-----------\n",
        "\n",
        "\n",
        "**Завдання 0**. Завантажте дані `train.csv`, `test.csv`, `sample_submission.csv` зі змагання на Kaggle [\"Bank Customer Churn Prediction (DLU Course)\"](https://www.kaggle.com/t/7c080c5d8ec64364a93cf4e8f880b6a0). Для завантаження потрібно долучитись до змагання (натиснути кнопку \"Join\").\n",
        "\n",
        "**Завдання 1**. **Збираємо весь код з попереднього ДЗ в одному місці.** В лекційному ноутбуці `Логістична регресія з ScikitLearn. Повна ML задача.ipynb` ми познайомились з поняттям пайплайнів, а також я показала, як компактно виглядає рішення МЛ задачі, якщо ми зберемо весь код разом.\n",
        "\n",
        "Оскільки ми далі будемо робити експерименти, які включають ті самі етапи попередньої обробки, але інше моделювання - буде зручно мати весь код компактно і під рукою. Тому зараз ми займемось збором коду до купи :) Після цього завдання для подальших експериментів ви можете перенести частини розвʼязку взагалі в окремий `.py` файл, аби було зручно імпортувати функції.\n",
        "\n",
        "Зі свого рішення в попередньому домашньому завданні (`Логістична регресія з scikit learn.ipynb`) зберіть усі кроки розвʼязку задачі разом з використанням `sklearn.Pipeline` за прикладом з лекції.\n",
        "\n",
        "Ваш код нижче має містити\n",
        "1. Читання даних з файлу (поза пайплайном).\n",
        "2. Розбиття на тренувальний і валідаційний набори, де валідаційний містить 20% даних (поза пайплайном).\n",
        "3. Виділення категоріальних і числових колонок (поза пайплайном).\n",
        "4. Підготовку категоріальних і числових колонок (частина пайплайну). В прикладі в лекції ми оформлювали обробку числових і категоріальних колонок в окремі трансформери `numeric_transformer`, `categorical_cols`. Рекоемндую зробити саме так, так потім зручніше вносити зміни :)\n",
        "5. Тренування лог регресії (частина пайплайну).\n",
        "6. Запуск пайплайну на тренування на трен. даних (поза пайплайном).\n",
        "7. Запуск пайплайну на передбачення на трен і вал. даних і вимір метрик якості ROC-AUC + вивдення Confusion Matrix (поза пайплайном).\n",
        "8. Збереження моделі в формат joblib (поза пайплайном).\n",
        "\n",
        "Ви це все вже зробили в попереднтьому ДЗ! Тож, тут просто заадча все зібрати разом.\n",
        "\n",
        "Нижче я додала підказки, що покроково ви маєте зробити. Якщо ви почуваєтесь впевнено, можете видалити ці підказки і реалізувати все самостійно, або ж - просто заповнити пропуски.\n",
        "\n",
        "Завдання оцінюється в 10 балів. Головний результат - аби код в фіналі був робочий. Бо за не робочий нам гроші ніхто не заплатить :)"
      ],
      "metadata": {
        "id": "gJ2A6t3mdEed"
      }
    },
    {
      "cell_type": "code",
      "source": [
        "!pip install opendatasets"
      ],
      "metadata": {
        "collapsed": true,
        "id": "yXca3dKMBFsV",
        "colab": {
          "base_uri": "https://localhost:8080/"
        },
        "outputId": "18389d70-c471-4226-9129-499dca1b6f1a"
      },
      "execution_count": 1,
      "outputs": [
        {
          "output_type": "stream",
          "name": "stdout",
          "text": [
            "Collecting opendatasets\n",
            "  Downloading opendatasets-0.1.22-py3-none-any.whl.metadata (9.2 kB)\n",
            "Requirement already satisfied: tqdm in /usr/local/lib/python3.11/dist-packages (from opendatasets) (4.67.1)\n",
            "Requirement already satisfied: kaggle in /usr/local/lib/python3.11/dist-packages (from opendatasets) (1.6.17)\n",
            "Requirement already satisfied: click in /usr/local/lib/python3.11/dist-packages (from opendatasets) (8.1.8)\n",
            "Requirement already satisfied: six>=1.10 in /usr/local/lib/python3.11/dist-packages (from kaggle->opendatasets) (1.17.0)\n",
            "Requirement already satisfied: certifi>=2023.7.22 in /usr/local/lib/python3.11/dist-packages (from kaggle->opendatasets) (2024.12.14)\n",
            "Requirement already satisfied: python-dateutil in /usr/local/lib/python3.11/dist-packages (from kaggle->opendatasets) (2.8.2)\n",
            "Requirement already satisfied: requests in /usr/local/lib/python3.11/dist-packages (from kaggle->opendatasets) (2.32.3)\n",
            "Requirement already satisfied: python-slugify in /usr/local/lib/python3.11/dist-packages (from kaggle->opendatasets) (8.0.4)\n",
            "Requirement already satisfied: urllib3 in /usr/local/lib/python3.11/dist-packages (from kaggle->opendatasets) (2.3.0)\n",
            "Requirement already satisfied: bleach in /usr/local/lib/python3.11/dist-packages (from kaggle->opendatasets) (6.2.0)\n",
            "Requirement already satisfied: webencodings in /usr/local/lib/python3.11/dist-packages (from bleach->kaggle->opendatasets) (0.5.1)\n",
            "Requirement already satisfied: text-unidecode>=1.3 in /usr/local/lib/python3.11/dist-packages (from python-slugify->kaggle->opendatasets) (1.3)\n",
            "Requirement already satisfied: charset-normalizer<4,>=2 in /usr/local/lib/python3.11/dist-packages (from requests->kaggle->opendatasets) (3.4.1)\n",
            "Requirement already satisfied: idna<4,>=2.5 in /usr/local/lib/python3.11/dist-packages (from requests->kaggle->opendatasets) (3.10)\n",
            "Downloading opendatasets-0.1.22-py3-none-any.whl (15 kB)\n",
            "Installing collected packages: opendatasets\n",
            "Successfully installed opendatasets-0.1.22\n"
          ]
        }
      ]
    },
    {
      "cell_type": "code",
      "source": [
        "import opendatasets as od\n",
        "import numpy as np\n",
        "import pandas as pd\n",
        "from sklearn.model_selection import train_test_split\n",
        "from sklearn.preprocessing import StandardScaler\n",
        "from sklearn.compose import ColumnTransformer\n",
        "from sklearn.linear_model import LogisticRegression\n",
        "from sklearn.linear_model import LinearRegression\n",
        "from sklearn.linear_model import Ridge, Lasso, ElasticNet\n",
        "from sklearn.preprocessing import MinMaxScaler, OneHotEncoder\n",
        "from sklearn.pipeline import Pipeline\n",
        "from sklearn.metrics import accuracy_score, classification_report\n",
        "from sklearn.metrics import roc_curve, auc\n",
        "from sklearn.metrics import confusion_matrix\n",
        "from sklearn.metrics import root_mean_squared_error\n",
        "from sklearn.metrics import mean_squared_error\n",
        "from sklearn.metrics import r2_score\n",
        "from sklearn.preprocessing import PolynomialFeatures\n",
        "import matplotlib.pyplot as plt\n",
        "import seaborn as sns\n",
        "import joblib"
      ],
      "metadata": {
        "id": "XefLxcrUAX_T"
      },
      "execution_count": 2,
      "outputs": []
    },
    {
      "cell_type": "code",
      "source": [
        "dataset_url = 'https://www.kaggle.com/competitions/bank-customer-churn-prediction-dlu-course-c-2/data'\n",
        "od.download(dataset_url)"
      ],
      "metadata": {
        "colab": {
          "base_uri": "https://localhost:8080/"
        },
        "id": "Ywwnq5vsAY_j",
        "outputId": "0bca7c85-26a0-4939-b84f-730c32e4a0bf"
      },
      "execution_count": 3,
      "outputs": [
        {
          "output_type": "stream",
          "name": "stdout",
          "text": [
            "Please provide your Kaggle credentials to download this dataset. Learn more: http://bit.ly/kaggle-creds\n",
            "Your Kaggle username: dariadubovska\n",
            "Your Kaggle Key: ··········\n",
            "Downloading bank-customer-churn-prediction-dlu-course-c-2.zip to ./bank-customer-churn-prediction-dlu-course-c-2\n"
          ]
        },
        {
          "output_type": "stream",
          "name": "stderr",
          "text": [
            "100%|██████████| 637k/637k [00:00<00:00, 81.1MB/s]"
          ]
        },
        {
          "output_type": "stream",
          "name": "stdout",
          "text": [
            "\n",
            "Extracting archive ./bank-customer-churn-prediction-dlu-course-c-2/bank-customer-churn-prediction-dlu-course-c-2.zip to ./bank-customer-churn-prediction-dlu-course-c-2\n"
          ]
        },
        {
          "output_type": "stream",
          "name": "stderr",
          "text": [
            "\n"
          ]
        }
      ]
    },
    {
      "cell_type": "code",
      "source": [
        "raw_df = pd.read_csv('./bank-customer-churn-prediction-dlu-course-c-2' + '/train.csv', index_col=0)\n",
        "\n",
        "\n",
        "train_df, val_df = train_test_split(raw_df, test_size=0.2, random_state=42, stratify=raw_df['Exited'])\n",
        "\n",
        "# Створюємо трен. і вал. набори\n",
        "input_cols = train_df.columns.drop('Exited')\n",
        "target_col = target_col = 'Exited'\n",
        "train_inputs = train_df[input_cols]\n",
        "train_targets = train_df[target_col]\n",
        "val_inputs = val_df[input_cols]\n",
        "val_targets = val_df[target_col]\n",
        "\n",
        "# видаляжмо колонки, які вважаємо не потрібними\n",
        "train_inputs = train_inputs.drop(columns=['CustomerId', 'Surname'])\n",
        "val_inputs = val_inputs.drop(columns=['CustomerId', 'Surname'])\n",
        "\n",
        "# Виявляємо числові і категоріальні колонки\n",
        "numeric_cols = train_inputs.select_dtypes(include=np.number).columns.difference(['id']).tolist()\n",
        "categorical_cols = train_inputs.select_dtypes('object').columns.tolist()\n",
        "\n",
        "# Створюємо трансформери для числових і категоріальних колонок\n",
        "numeric_transformer = Pipeline(steps=[\n",
        "    ('scaler', MinMaxScaler())\n",
        "])\n",
        "\n",
        "categorical_transformer = Pipeline(steps=[\n",
        "    ('onehot', OneHotEncoder(sparse_output=False, handle_unknown='ignore'))\n",
        "])\n",
        "\n",
        "# Комбінуємо трансформери для різних типів колонок в один препроцесор\n",
        "preprocessor = ColumnTransformer(\n",
        "    transformers=[\n",
        "        ('num', numeric_transformer, numeric_cols),\n",
        "        ('cat', categorical_transformer, categorical_cols)\n",
        "    ])\n",
        "\n",
        "# Стоврюємо пайплайн, який спочатку запускає препроцесинг, потім тренуєм модель\n",
        "model_pipeline = Pipeline(steps=[\n",
        "    ('preprocessor', preprocessor),\n",
        "    ('classifier', LogisticRegression(solver='liblinear'))\n",
        "])\n",
        "\n",
        "# Тренуємо пайплайн\n",
        "model_pipeline.fit(train_inputs, train_targets)\n",
        "\n",
        "# Функція, щоб передбачати і рахувати метрики\n",
        "def predict_and_plot(model_pipeline, inputs, targets, name=''):\n",
        "    preds = model_pipeline.predict(inputs)\n",
        "\n",
        "    y_pred_proba = model_pipeline.predict_proba(inputs)[:, 1]\n",
        "    fpr, tpr, thresholds = roc_curve(targets, y_pred_proba)\n",
        "    roc_auc = auc(fpr, tpr)\n",
        "    print(f\"Area under ROC score on {name} dataset: {roc_auc:.2f}%\")\n",
        "\n",
        "    confusion_matrix_ = confusion_matrix(targets, preds, normalize='true')\n",
        "\n",
        "    plt.figure()\n",
        "    sns.heatmap(confusion_matrix_, annot=True, cmap='Blues')\n",
        "    plt.xlabel('Prediction')\n",
        "    plt.ylabel('Target')\n",
        "    plt.title('{} Confusion Matrix'.format(name))\n",
        "    plt.show()\n",
        "    return preds\n",
        "\n",
        "# Оцінюємо модель на трен і вал даних\n",
        "train_preds = predict_and_plot(model_pipeline,train_inputs, train_targets, 'Train')\n",
        "val_preds = predict_and_plot(model_pipeline, val_inputs, val_targets, 'Validation')\n",
        "\n",
        "# Зберігаємо модель для подальшого використання\n",
        "joblib.dump(model_pipeline, 'bank_castomer_pipeline.joblib')\n"
      ],
      "metadata": {
        "id": "0LZialdo4IPZ",
        "colab": {
          "base_uri": "https://localhost:8080/",
          "height": 979
        },
        "outputId": "194c934d-882a-4640-ac4d-c34fee36e18a"
      },
      "execution_count": 4,
      "outputs": [
        {
          "output_type": "stream",
          "name": "stdout",
          "text": [
            "Area under ROC score on Train dataset: 0.88%\n"
          ]
        },
        {
          "output_type": "display_data",
          "data": {
            "text/plain": [
              "<Figure size 640x480 with 2 Axes>"
            ],
            "image/png": "[encoded data removed]"
          },
          "metadata": {}
        },
        {
          "output_type": "stream",
          "name": "stdout",
          "text": [
            "Area under ROC score on Validation dataset: 0.88%\n"
          ]
        },
        {
          "output_type": "display_data",
          "data": {
            "text/plain": [
              "<Figure size 640x480 with 2 Axes>"
            ],
            "image/png": "[encoded data removed]"
          },
          "metadata": {}
        },
        {
          "output_type": "execute_result",
          "data": {
            "text/plain": [
              "['bank_castomer_pipeline.joblib']"
            ]
          },
          "metadata": {},
          "execution_count": 4
        }
      ]
    },
    {
      "cell_type": "markdown",
      "source": [
        "**Завдання 2**. Такс, у нас з вами є вже готовий пайплайн. Давайте проведемо нові експерименти.\n",
        "\n",
        "  Додайте в попередню обробку числових колонок генерацію polinomal features до степені 2 включно. Для цього створіть новий препроцесор і створіть новий пайплайн.\n",
        "\n",
        "  Запустіть пайплайн на тренування і виведіть метрики для тренувального і валідаційного набору. Напишіть, як вам модель? Чи спостерігається в цій моделі overfit чи underfit? Чи ця модель добре генералізує?"
      ],
      "metadata": {
        "id": "PXrc2NCa5lAK"
      }
    },
    {
      "cell_type": "code",
      "source": [
        "numeric_transformer_poly = Pipeline(steps=[\n",
        "    ('scaler', MinMaxScaler()),\n",
        "    ('poly', PolynomialFeatures(degree=2))\n",
        "])\n",
        "\n",
        "preprocessor_poly = ColumnTransformer(\n",
        "    transformers=[\n",
        "        ('num', numeric_transformer_poly, numeric_cols),\n",
        "        ('cat', categorical_transformer, categorical_cols)\n",
        "    ])\n",
        "\n",
        "model_pipeline_poly = Pipeline(steps=[\n",
        "    ('preprocessor', preprocessor_poly),\n",
        "    ('classifier', LogisticRegression(solver='liblinear'))\n",
        "])\n",
        "\n",
        "model_pipeline_poly.fit(train_inputs, train_targets)\n",
        "\n",
        "train_preds_poly = predict_and_plot(model_pipeline_poly, train_inputs, train_targets, 'Train')\n",
        "val_preds_poly = predict_and_plot(model_pipeline_poly, val_inputs, val_targets, 'Vаlidation')"
      ],
      "metadata": {
        "id": "TjcmWMTOOjJ1",
        "colab": {
          "base_uri": "https://localhost:8080/",
          "height": 962
        },
        "outputId": "71f6670e-d2e3-470e-ab17-b8d0b3284498"
      },
      "execution_count": 5,
      "outputs": [
        {
          "output_type": "stream",
          "name": "stdout",
          "text": [
            "Area under ROC score on Train dataset: 0.92%\n"
          ]
        },
        {
          "output_type": "display_data",
          "data": {
            "text/plain": [
              "<Figure size 640x480 with 2 Axes>"
            ],
            "image/png": "[encoded data removed]"
          },
          "metadata": {}
        },
        {
          "output_type": "stream",
          "name": "stdout",
          "text": [
            "Area under ROC score on Vаlidation dataset: 0.92%\n"
          ]
        },
        {
          "output_type": "display_data",
          "data": {
            "text/plain": [
              "<Figure size 640x480 with 2 Axes>"
            ],
            "image/png": "[encoded data removed]"
          },
          "metadata": {}
        }
      ]
    },
    {
      "cell_type": "markdown",
      "source": [
        "**Спостереження**\n",
        "\n",
        "Метрики моделі на тернувальному і на валідаційному наборі даних дуже близькі, тож модемо зробити висновок, що модель добре генералізує дані. В моделі не спостерігаємно  overfit чи underfit."
      ],
      "metadata": {
        "id": "bOEc7q630IMq"
      }
    },
    {
      "cell_type": "markdown",
      "source": [
        "**Завдання 3**. Тепер давайте створимо ще новий пайплайн, тільки тепер поліноміальні ознаки згенеруємо до степені 4. Зробіть висновок про якість моделі. Якщо вам подобається резульат якоїсь з моделей в цьому ДЗ - рекомендую зробити submission в змаганні."
      ],
      "metadata": {
        "id": "tkmEmHaP8Pen"
      }
    },
    {
      "cell_type": "code",
      "source": [
        "numeric_transformer_poly4 = Pipeline(steps=[\n",
        "    ('scaler', MinMaxScaler()),\n",
        "    ('poly', PolynomialFeatures(degree=4))\n",
        "])\n",
        "\n",
        "preprocessor_poly4 = ColumnTransformer(\n",
        "    transformers=[\n",
        "        ('num', numeric_transformer_poly4, numeric_cols),\n",
        "        ('cat', categorical_transformer, categorical_cols)\n",
        "    ])\n",
        "\n",
        "model_pipeline_poly4 = Pipeline(steps=[\n",
        "    ('preprocessor', preprocessor_poly4),\n",
        "    ('classifier', LogisticRegression(solver='liblinear'))\n",
        "])\n",
        "\n",
        "model_pipeline_poly4.fit(train_inputs, train_targets)\n",
        "\n",
        "train_preds_poly4 = predict_and_plot(model_pipeline_poly4, train_inputs, train_targets, 'Train')\n",
        "val_preds_poly4 = predict_and_plot(model_pipeline_poly4, val_inputs, val_targets, 'Vаlidation')"
      ],
      "metadata": {
        "id": "OsT-MDWuOkDY",
        "colab": {
          "base_uri": "https://localhost:8080/",
          "height": 962
        },
        "outputId": "e866c35f-a898-4e17-bc1d-c2de0d9192dc"
      },
      "execution_count": 6,
      "outputs": [
        {
          "output_type": "stream",
          "name": "stdout",
          "text": [
            "Area under ROC score on Train dataset: 0.93%\n"
          ]
        },
        {
          "output_type": "display_data",
          "data": {
            "text/plain": [
              "<Figure size 640x480 with 2 Axes>"
            ],
            "image/png": "[encoded data removed]"
          },
          "metadata": {}
        },
        {
          "output_type": "stream",
          "name": "stdout",
          "text": [
            "Area under ROC score on Vаlidation dataset: 0.93%\n"
          ]
        },
        {
          "output_type": "display_data",
          "data": {
            "text/plain": [
              "<Figure size 640x480 with 2 Axes>"
            ],
            "image/png": "[encoded data removed]"
          },
          "metadata": {}
        }
      ]
    },
    {
      "cell_type": "markdown",
      "source": [
        "**Спостереження**\n",
        "\n",
        "Метрики моделі на тернувальному і на валідаційному наборі даних дуже близькі, тож модемо зробити висновок, що модель добре генералізує дані. В моделі не спостерігаємно  overfit чи underfit. При тому, метрики цієї моделі кращі ніж у попередньої"
      ],
      "metadata": {
        "id": "Ipu0LTdL3BPa"
      }
    },
    {
      "cell_type": "code",
      "source": [
        "test_raw_df = pd.read_csv('./bank-customer-churn-prediction-dlu-course-c-2' + '/test.csv')\n",
        "\n",
        "test_raw_df = test_raw_df.drop(columns=['CustomerId', 'Surname'])\n",
        "\n",
        "test_pred_proba = model_pipeline_poly4.predict_proba(test_raw_df)[:, 1]\n",
        "print(test_pred_proba)\n",
        "test_raw_df['Exited'] = test_pred_proba"
      ],
      "metadata": {
        "colab": {
          "base_uri": "https://localhost:8080/"
        },
        "id": "VJ80r3St38Tr",
        "outputId": "5510061a-5bde-4af5-f474-3d6e30fdb076"
      },
      "execution_count": 7,
      "outputs": [
        {
          "output_type": "stream",
          "name": "stdout",
          "text": [
            "[0.07863733 0.02025488 0.07018374 ... 0.00478366 0.13163272 0.08906992]\n"
          ]
        }
      ]
    },
    {
      "cell_type": "code",
      "source": [
        "sample_submission_df = pd.read_csv('./bank-customer-churn-prediction-dlu-course-c-2' + '/sample_submission.csv')\n",
        "sample_submission_df['Exited'] = test_raw_df['Exited']\n",
        "sample_submission_df.to_csv('submission.csv', index=False)"
      ],
      "metadata": {
        "id": "Jh5ocSNJ3As7"
      },
      "execution_count": 8,
      "outputs": []
    },
    {
      "cell_type": "markdown",
      "source": [
        "**Завдання 4. Перенавчання і регуляризація**.\n",
        "\n",
        "  Скачайте набір даних `regression_data.csv`. Звичайте набір даних з `regression_data.csv`, розбийте на train і test (в тест 20%) і натренуйте модель лінійної регресії з масштабуванням числових ознак і поліноміальними ознаками до степені **5 включно**.\n",
        "\n",
        "  Виміряйте якість прогностичної моделі і зробіть висновок, чи модель хороша, чи вона добре генералізує?\n"
      ],
      "metadata": {
        "id": "ozN2ONZGCBS6"
      }
    },
    {
      "cell_type": "code",
      "source": [
        "regression_df = pd.read_csv('regression_data.csv')\n",
        "regression_df.head()"
      ],
      "metadata": {
        "id": "xbl0jQ3WOlgn",
        "colab": {
          "base_uri": "https://localhost:8080/",
          "height": 206
        },
        "outputId": "2f9f7e3b-c408-42cb-cd0f-545ae8744a74"
      },
      "execution_count": 29,
      "outputs": [
        {
          "output_type": "execute_result",
          "data": {
            "text/plain": [
              "   feature_1  feature_2  feature_3  feature_4  feature_5     target\n",
              "0  -0.190339  -1.382800  -0.875618   0.538910  -1.037246  28.938854\n",
              "1  -0.321386  -0.563725   0.412931  -0.147057  -0.825497  -7.664581\n",
              "2   2.122156  -1.519370   1.032465  -1.260884   0.917862 -63.845482\n",
              "3  -1.380101  -0.055548  -1.703382   0.074095   1.628616   4.076259\n",
              "4  -0.072829  -1.514847  -0.846794   0.714000   0.473238  34.879013"
            ],
            "text/html": [
              "\n",
              "  <div id=\"df-e7e3a32e-5f1b-4d3e-8cce-4fc24db5a93d\" class=\"colab-df-container\">\n",
              "    <div>\n",
              "<style scoped>\n",
              "    .dataframe tbody tr th:only-of-type {\n",
              "        vertical-align: middle;\n",
              "    }\n",
              "\n",
              "    .dataframe tbody tr th {\n",
              "        vertical-align: top;\n",
              "    }\n",
              "\n",
              "    .dataframe thead th {\n",
              "        text-align: right;\n",
              "    }\n",
              "</style>\n",
              "<table border=\"1\" class=\"dataframe\">\n",
              "  <thead>\n",
              "    <tr style=\"text-align: right;\">\n",
              "      <th></th>\n",
              "      <th>feature_1</th>\n",
              "      <th>feature_2</th>\n",
              "      <th>feature_3</th>\n",
              "      <th>feature_4</th>\n",
              "      <th>feature_5</th>\n",
              "      <th>target</th>\n",
              "    </tr>\n",
              "  </thead>\n",
              "  <tbody>\n",
              "    <tr>\n",
              "      <th>0</th>\n",
              "      <td>-0.190339</td>\n",
              "      <td>-1.382800</td>\n",
              "      <td>-0.875618</td>\n",
              "      <td>0.538910</td>\n",
              "      <td>-1.037246</td>\n",
              "      <td>28.938854</td>\n",
              "    </tr>\n",
              "    <tr>\n",
              "      <th>1</th>\n",
              "      <td>-0.321386</td>\n",
              "      <td>-0.563725</td>\n",
              "      <td>0.412931</td>\n",
              "      <td>-0.147057</td>\n",
              "      <td>-0.825497</td>\n",
              "      <td>-7.664581</td>\n",
              "    </tr>\n",
              "    <tr>\n",
              "      <th>2</th>\n",
              "      <td>2.122156</td>\n",
              "      <td>-1.519370</td>\n",
              "      <td>1.032465</td>\n",
              "      <td>-1.260884</td>\n",
              "      <td>0.917862</td>\n",
              "      <td>-63.845482</td>\n",
              "    </tr>\n",
              "    <tr>\n",
              "      <th>3</th>\n",
              "      <td>-1.380101</td>\n",
              "      <td>-0.055548</td>\n",
              "      <td>-1.703382</td>\n",
              "      <td>0.074095</td>\n",
              "      <td>1.628616</td>\n",
              "      <td>4.076259</td>\n",
              "    </tr>\n",
              "    <tr>\n",
              "      <th>4</th>\n",
              "      <td>-0.072829</td>\n",
              "      <td>-1.514847</td>\n",
              "      <td>-0.846794</td>\n",
              "      <td>0.714000</td>\n",
              "      <td>0.473238</td>\n",
              "      <td>34.879013</td>\n",
              "    </tr>\n",
              "  </tbody>\n",
              "</table>\n",
              "</div>\n",
              "    <div class=\"colab-df-buttons\">\n",
              "\n",
              "  <div class=\"colab-df-container\">\n",
              "    <button class=\"colab-df-convert\" onclick=\"convertToInteractive('df-e7e3a32e-5f1b-4d3e-8cce-4fc24db5a93d')\"\n",
              "            title=\"Convert this dataframe to an interactive table.\"\n",
              "            style=\"display:none;\">\n",
              "\n",
              "  <svg xmlns=\"http://www.w3.org/2000/svg\" height=\"24px\" viewBox=\"0 -960 960 960\">\n",
              "    <path d=\"M120-120v-720h720v720H120Zm60-500h600v-160H180v160Zm220 220h160v-160H400v160Zm0 220h160v-160H400v160ZM180-400h160v-160H180v160Zm440 0h160v-160H620v160ZM180-180h160v-160H180v160Zm440 0h160v-160H620v160Z\"/>\n",
              "  </svg>\n",
              "    </button>\n",
              "\n",
              "  <style>\n",
              "    .colab-df-container {\n",
              "      display:flex;\n",
              "      gap: 12px;\n",
              "    }\n",
              "\n",
              "    .colab-df-convert {\n",
              "      background-color: #E8F0FE;\n",
              "      border: none;\n",
              "      border-radius: 50%;\n",
              "      cursor: pointer;\n",
              "      display: none;\n",
              "      fill: #1967D2;\n",
              "      height: 32px;\n",
              "      padding: 0 0 0 0;\n",
              "      width: 32px;\n",
              "    }\n",
              "\n",
              "    .colab-df-convert:hover {\n",
              "      background-color: #E2EBFA;\n",
              "      box-shadow: 0px 1px 2px rgba(60, 64, 67, 0.3), 0px 1px 3px 1px rgba(60, 64, 67, 0.15);\n",
              "      fill: #174EA6;\n",
              "    }\n",
              "\n",
              "    .colab-df-buttons div {\n",
              "      margin-bottom: 4px;\n",
              "    }\n",
              "\n",
              "    [theme=dark] .colab-df-convert {\n",
              "      background-color: #3B4455;\n",
              "      fill: #D2E3FC;\n",
              "    }\n",
              "\n",
              "    [theme=dark] .colab-df-convert:hover {\n",
              "      background-color: #434B5C;\n",
              "      box-shadow: 0px 1px 3px 1px rgba(0, 0, 0, 0.15);\n",
              "      filter: drop-shadow(0px 1px 2px rgba(0, 0, 0, 0.3));\n",
              "      fill: #FFFFFF;\n",
              "    }\n",
              "  </style>\n",
              "\n",
              "    <script>\n",
              "      const buttonEl =\n",
              "        document.querySelector('#df-e7e3a32e-5f1b-4d3e-8cce-4fc24db5a93d button.colab-df-convert');\n",
              "      buttonEl.style.display =\n",
              "        google.colab.kernel.accessAllowed ? 'block' : 'none';\n",
              "\n",
              "      async function convertToInteractive(key) {\n",
              "        const element = document.querySelector('#df-e7e3a32e-5f1b-4d3e-8cce-4fc24db5a93d');\n",
              "        const dataTable =\n",
              "          await google.colab.kernel.invokeFunction('convertToInteractive',\n",
              "                                                    [key], {});\n",
              "        if (!dataTable) return;\n",
              "\n",
              "        const docLinkHtml = 'Like what you see? Visit the ' +\n",
              "          '<a target=\"_blank\" href=https://colab.research.google.com/notebooks/data_table.ipynb>data table notebook</a>'\n",
              "          + ' to learn more about interactive tables.';\n",
              "        element.innerHTML = '';\n",
              "        dataTable['output_type'] = 'display_data';\n",
              "        await google.colab.output.renderOutput(dataTable, element);\n",
              "        const docLink = document.createElement('div');\n",
              "        docLink.innerHTML = docLinkHtml;\n",
              "        element.appendChild(docLink);\n",
              "      }\n",
              "    </script>\n",
              "  </div>\n",
              "\n",
              "\n",
              "<div id=\"df-e21304c3-b567-4d1f-9f95-083affac2fbc\">\n",
              "  <button class=\"colab-df-quickchart\" onclick=\"quickchart('df-e21304c3-b567-4d1f-9f95-083affac2fbc')\"\n",
              "            title=\"Suggest charts\"\n",
              "            style=\"display:none;\">\n",
              "\n",
              "<svg xmlns=\"http://www.w3.org/2000/svg\" height=\"24px\"viewBox=\"0 0 24 24\"\n",
              "     width=\"24px\">\n",
              "    <g>\n",
              "        <path d=\"M19 3H5c-1.1 0-2 .9-2 2v14c0 1.1.9 2 2 2h14c1.1 0 2-.9 2-2V5c0-1.1-.9-2-2-2zM9 17H7v-7h2v7zm4 0h-2V7h2v10zm4 0h-2v-4h2v4z\"/>\n",
              "    </g>\n",
              "</svg>\n",
              "  </button>\n",
              "\n",
              "<style>\n",
              "  .colab-df-quickchart {\n",
              "      --bg-color: #E8F0FE;\n",
              "      --fill-color: #1967D2;\n",
              "      --hover-bg-color: #E2EBFA;\n",
              "      --hover-fill-color: #174EA6;\n",
              "      --disabled-fill-color: #AAA;\n",
              "      --disabled-bg-color: #DDD;\n",
              "  }\n",
              "\n",
              "  [theme=dark] .colab-df-quickchart {\n",
              "      --bg-color: #3B4455;\n",
              "      --fill-color: #D2E3FC;\n",
              "      --hover-bg-color: #434B5C;\n",
              "      --hover-fill-color: #FFFFFF;\n",
              "      --disabled-bg-color: #3B4455;\n",
              "      --disabled-fill-color: #666;\n",
              "  }\n",
              "\n",
              "  .colab-df-quickchart {\n",
              "    background-color: var(--bg-color);\n",
              "    border: none;\n",
              "    border-radius: 50%;\n",
              "    cursor: pointer;\n",
              "    display: none;\n",
              "    fill: var(--fill-color);\n",
              "    height: 32px;\n",
              "    padding: 0;\n",
              "    width: 32px;\n",
              "  }\n",
              "\n",
              "  .colab-df-quickchart:hover {\n",
              "    background-color: var(--hover-bg-color);\n",
              "    box-shadow: 0 1px 2px rgba(60, 64, 67, 0.3), 0 1px 3px 1px rgba(60, 64, 67, 0.15);\n",
              "    fill: var(--button-hover-fill-color);\n",
              "  }\n",
              "\n",
              "  .colab-df-quickchart-complete:disabled,\n",
              "  .colab-df-quickchart-complete:disabled:hover {\n",
              "    background-color: var(--disabled-bg-color);\n",
              "    fill: var(--disabled-fill-color);\n",
              "    box-shadow: none;\n",
              "  }\n",
              "\n",
              "  .colab-df-spinner {\n",
              "    border: 2px solid var(--fill-color);\n",
              "    border-color: transparent;\n",
              "    border-bottom-color: var(--fill-color);\n",
              "    animation:\n",
              "      spin 1s steps(1) infinite;\n",
              "  }\n",
              "\n",
              "  @keyframes spin {\n",
              "    0% {\n",
              "      border-color: transparent;\n",
              "      border-bottom-color: var(--fill-color);\n",
              "      border-left-color: var(--fill-color);\n",
              "    }\n",
              "    20% {\n",
              "      border-color: transparent;\n",
              "      border-left-color: var(--fill-color);\n",
              "      border-top-color: var(--fill-color);\n",
              "    }\n",
              "    30% {\n",
              "      border-color: transparent;\n",
              "      border-left-color: var(--fill-color);\n",
              "      border-top-color: var(--fill-color);\n",
              "      border-right-color: var(--fill-color);\n",
              "    }\n",
              "    40% {\n",
              "      border-color: transparent;\n",
              "      border-right-color: var(--fill-color);\n",
              "      border-top-color: var(--fill-color);\n",
              "    }\n",
              "    60% {\n",
              "      border-color: transparent;\n",
              "      border-right-color: var(--fill-color);\n",
              "    }\n",
              "    80% {\n",
              "      border-color: transparent;\n",
              "      border-right-color: var(--fill-color);\n",
              "      border-bottom-color: var(--fill-color);\n",
              "    }\n",
              "    90% {\n",
              "      border-color: transparent;\n",
              "      border-bottom-color: var(--fill-color);\n",
              "    }\n",
              "  }\n",
              "</style>\n",
              "\n",
              "  <script>\n",
              "    async function quickchart(key) {\n",
              "      const quickchartButtonEl =\n",
              "        document.querySelector('#' + key + ' button');\n",
              "      quickchartButtonEl.disabled = true;  // To prevent multiple clicks.\n",
              "      quickchartButtonEl.classList.add('colab-df-spinner');\n",
              "      try {\n",
              "        const charts = await google.colab.kernel.invokeFunction(\n",
              "            'suggestCharts', [key], {});\n",
              "      } catch (error) {\n",
              "        console.error('Error during call to suggestCharts:', error);\n",
              "      }\n",
              "      quickchartButtonEl.classList.remove('colab-df-spinner');\n",
              "      quickchartButtonEl.classList.add('colab-df-quickchart-complete');\n",
              "    }\n",
              "    (() => {\n",
              "      let quickchartButtonEl =\n",
              "        document.querySelector('#df-e21304c3-b567-4d1f-9f95-083affac2fbc button');\n",
              "      quickchartButtonEl.style.display =\n",
              "        google.colab.kernel.accessAllowed ? 'block' : 'none';\n",
              "    })();\n",
              "  </script>\n",
              "</div>\n",
              "\n",
              "    </div>\n",
              "  </div>\n"
            ],
            "application/vnd.google.colaboratory.intrinsic+json": {
              "type": "dataframe",
              "variable_name": "regression_df",
              "summary": "{\n  \"name\": \"regression_df\",\n  \"rows\": 129,\n  \"fields\": [\n    {\n      \"column\": \"feature_1\",\n      \"properties\": {\n        \"dtype\": \"number\",\n        \"std\": 0.9412144270191443,\n        \"min\": -3.241267340069073,\n        \"max\": 2.122156197012633,\n        \"num_unique_values\": 129,\n        \"samples\": [\n          -1.6074832345612275,\n          -0.1580078985789894,\n          -0.0660797986473165\n        ],\n        \"semantic_type\": \"\",\n        \"description\": \"\"\n      }\n    },\n    {\n      \"column\": \"feature_2\",\n      \"properties\": {\n        \"dtype\": \"number\",\n        \"std\": 1.065887053413386,\n        \"min\": -2.6197451040897444,\n        \"max\": 3.852731490654721,\n        \"num_unique_values\": 129,\n        \"samples\": [\n          0.2598827942484235,\n          -1.0121043752601675,\n          -0.6518361078021592\n        ],\n        \"semantic_type\": \"\",\n        \"description\": \"\"\n      }\n    },\n    {\n      \"column\": \"feature_3\",\n      \"properties\": {\n        \"dtype\": \"number\",\n        \"std\": 0.978557192654923,\n        \"min\": -1.913280244657798,\n        \"max\": 3.0788808084552377,\n        \"num_unique_values\": 129,\n        \"samples\": [\n          0.1846338585323042,\n          -0.42688106994742,\n          -1.211016199762457\n        ],\n        \"semantic_type\": \"\",\n        \"description\": \"\"\n      }\n    },\n    {\n      \"column\": \"feature_4\",\n      \"properties\": {\n        \"dtype\": \"number\",\n        \"std\": 0.9105881535819239,\n        \"min\": -2.211135309007885,\n        \"max\": 2.3146585666735087,\n        \"num_unique_values\": 129,\n        \"samples\": [\n          0.2274599346041294,\n          -1.6924646297148194,\n          0.6385924587773739\n        ],\n        \"semantic_type\": \"\",\n        \"description\": \"\"\n      }\n    },\n    {\n      \"column\": \"feature_5\",\n      \"properties\": {\n        \"dtype\": \"number\",\n        \"std\": 1.0044980686118028,\n        \"min\": -2.301921164735585,\n        \"max\": 2.075400798645439,\n        \"num_unique_values\": 129,\n        \"samples\": [\n          1.307142754282428,\n          1.5295503194606137,\n          -1.66152006226896\n        ],\n        \"semantic_type\": \"\",\n        \"description\": \"\"\n      }\n    },\n    {\n      \"column\": \"target\",\n      \"properties\": {\n        \"dtype\": \"number\",\n        \"std\": 45.46662135515645,\n        \"min\": -111.75381023526477,\n        \"max\": 115.12590740098972,\n        \"num_unique_values\": 129,\n        \"samples\": [\n          11.86363486054443,\n          -84.2273771262452,\n          31.16662131112943\n        ],\n        \"semantic_type\": \"\",\n        \"description\": \"\"\n      }\n    }\n  ]\n}"
            }
          },
          "metadata": {},
          "execution_count": 29
        }
      ]
    },
    {
      "cell_type": "code",
      "source": [
        "reg_train_df, reg_test_df = train_test_split(regression_df, test_size=0.2, random_state=42)\n",
        "reg_train_inputs = reg_train_df.drop(columns=['target'])\n",
        "reg_train_targets = reg_train_df['target']\n",
        "reg_test_inputs = reg_test_df.drop(columns=['target'])\n",
        "reg_test_targets = reg_test_df['target']"
      ],
      "metadata": {
        "id": "HIDlFS0WE4dh"
      },
      "execution_count": 30,
      "outputs": []
    },
    {
      "cell_type": "code",
      "source": [
        "scaler = StandardScaler()\n",
        "reg_train_inputs = scaler.fit_transform(reg_train_inputs)\n",
        "reg_test_inputs = scaler.transform(reg_test_inputs)"
      ],
      "metadata": {
        "id": "_2dy5FqJFPHJ"
      },
      "execution_count": 34,
      "outputs": []
    },
    {
      "cell_type": "code",
      "source": [
        "lin_model = LinearRegression()\n",
        "lin_model.fit(reg_train_inputs, reg_train_targets)\n",
        "\n",
        "y_pred_train = lin_model.predict(reg_train_inputs)\n",
        "y_pred_test = lin_model.predict(reg_test_inputs)\n",
        "\n",
        "print('Train RMSE: ', root_mean_squared_error(reg_train_targets, y_pred_train))\n",
        "print('Test RMSE: ', root_mean_squared_error(reg_test_targets, y_pred_test))\n",
        "\n",
        "print(\"Train R²:\", r2_score(reg_train_targets, y_pred_train))\n",
        "print(\"Test R²:\", r2_score(reg_test_targets, y_pred_test))"
      ],
      "metadata": {
        "colab": {
          "base_uri": "https://localhost:8080/"
        },
        "id": "-wO3H2nLE-5r",
        "outputId": "07930775-3e64-4e46-ac40-1d6d4b3fcd33"
      },
      "execution_count": 38,
      "outputs": [
        {
          "output_type": "stream",
          "name": "stdout",
          "text": [
            "Train RMSE:  1.0664716922463602\n",
            "Test RMSE:  0.8833273761660406\n",
            "Train R²: 0.9994160875267106\n",
            "Test R²: 0.999665561359872\n"
          ]
        }
      ]
    },
    {
      "cell_type": "code",
      "source": [
        "poly_features = PolynomialFeatures(degree=5)\n",
        "X_train_poly = poly_features.fit_transform(reg_train_inputs)\n",
        "X_test_poly = poly_features.transform(reg_test_inputs)\n",
        "\n",
        "poly_reg = LinearRegression()\n",
        "poly_reg.fit(X_train_poly, reg_train_targets)\n",
        "y_pred_train_poly = poly_reg.predict(X_train_poly)\n",
        "y_pred_test_poly = poly_reg.predict(X_test_poly)\n",
        "\n",
        "print('Train RMSE: ', root_mean_squared_error(reg_train_targets, y_pred_train_poly))\n",
        "print('Test RMSE: ', root_mean_squared_error(reg_test_targets, y_pred_test_poly))\n",
        "\n",
        "print(\"Train R²:\", r2_score(reg_train_targets, y_pred_train_poly))\n",
        "print(\"Test R²:\", r2_score(reg_test_targets, y_pred_test_poly))"
      ],
      "metadata": {
        "colab": {
          "base_uri": "https://localhost:8080/"
        },
        "id": "O4TtJf-ZKE_E",
        "outputId": "befa8435-21fe-4e04-992d-5aa4cda123df"
      },
      "execution_count": 39,
      "outputs": [
        {
          "output_type": "stream",
          "name": "stdout",
          "text": [
            "Train RMSE:  3.7763558710745e-13\n",
            "Test RMSE:  35.62805277364273\n",
            "Train R²: 1.0\n",
            "Test R²: 0.4559269150836144\n"
          ]
        }
      ]
    },
    {
      "cell_type": "markdown",
      "source": [
        "**Спостереження**\n",
        "\n",
        "Перша модель:\n",
        "* метрики на трейні і тесті схожі\n",
        "* модель добре герералізує, немає овер чи андерфіту\n",
        "* тест R2 демонтрує дуже гарну точність прогнозування моделі\n",
        "\n",
        "Дргуа модель:\n",
        "* явні ознаки пернавчення моделі - ідеальна підгонка під дані на трейні і значно гірший результат на тесті"
      ],
      "metadata": {
        "id": "eSketBiYufnE"
      }
    },
    {
      "cell_type": "markdown",
      "source": [
        "**Завдання 5**. Натренуйте моделі Lasso(), Ridge(), ElasaticNet() на цих даних (з поліном ознаками до степені 20 включно), порівняйте якість з тою, яка була отримана з лінійною регресією. Яка модель найкраще генералізує і чому на ваш погляд (можливо треба буде для відповіді зробити додатковий аналіз ознак)?"
      ],
      "metadata": {
        "id": "JNUt-Q6UHkn7"
      }
    },
    {
      "cell_type": "code",
      "source": [
        "def evaluate_model(model, X_train, y_train, X_val, y_val):\n",
        "    y_train_pred = model.predict(X_train)\n",
        "    y_val_pred = model.predict(X_val)\n",
        "\n",
        "    train_metrics = round(root_mean_squared_error(y_train, y_train_pred), 6)\n",
        "    val_metrics = round(root_mean_squared_error(y_val, y_val_pred), 6)\n",
        "\n",
        "    return dict(train=train_metrics, val=val_metrics)"
      ],
      "metadata": {
        "id": "KQVcQReXEoSv"
      },
      "execution_count": 41,
      "outputs": []
    },
    {
      "cell_type": "code",
      "source": [
        "models = [\n",
        "    Ridge(),\n",
        "    Lasso(),\n",
        "    ElasticNet(alpha=0.5)\n",
        "]\n",
        "\n",
        "poly_features20 = PolynomialFeatures(degree=20)\n",
        "X_train_poly20 = poly_features20.fit_transform(reg_train_inputs)\n",
        "X_test_poly20 = poly_features20.transform(reg_test_inputs)\n",
        "\n",
        "for model in models:\n",
        "  model.fit(X_train_poly20, reg_train_targets)\n",
        "  eval_results = evaluate_model(model, X_train_poly20, reg_train_targets, X_test_poly20, reg_test_targets)\n",
        "  print(f'{str(model)}: {eval_results}\\n')"
      ],
      "metadata": {
        "id": "y93ItPYdOnpE",
        "colab": {
          "base_uri": "https://localhost:8080/"
        },
        "outputId": "257dffb9-b31f-45da-8898-c3647a10bffb"
      },
      "execution_count": 44,
      "outputs": [
        {
          "output_type": "stream",
          "name": "stderr",
          "text": [
            "/usr/local/lib/python3.11/dist-packages/sklearn/linear_model/_ridge.py:254: UserWarning: Singular matrix in solving dual problem. Using least-squares solution instead.\n",
            "  warnings.warn(\n"
          ]
        },
        {
          "output_type": "stream",
          "name": "stdout",
          "text": [
            "Ridge(): {'train': 30.879122, 'val': 152443.031595}\n",
            "\n"
          ]
        },
        {
          "output_type": "stream",
          "name": "stderr",
          "text": [
            "/usr/local/lib/python3.11/dist-packages/sklearn/linear_model/_coordinate_descent.py:695: ConvergenceWarning: Objective did not converge. You might want to increase the number of iterations, check the scale of the features or consider increasing regularisation. Duality gap: 4.355e+03, tolerance: 2.006e+01\n",
            "  model = cd_fast.enet_coordinate_descent(\n"
          ]
        },
        {
          "output_type": "stream",
          "name": "stdout",
          "text": [
            "Lasso(): {'train': 2.19752, 'val': 14.944979}\n",
            "\n",
            "ElasticNet(alpha=0.5): {'train': 7.072921, 'val': 94.628166}\n",
            "\n"
          ]
        },
        {
          "output_type": "stream",
          "name": "stderr",
          "text": [
            "/usr/local/lib/python3.11/dist-packages/sklearn/linear_model/_coordinate_descent.py:695: ConvergenceWarning: Objective did not converge. You might want to increase the number of iterations, check the scale of the features or consider increasing regularisation. Duality gap: 6.546e+03, tolerance: 2.006e+01\n",
            "  model = cd_fast.enet_coordinate_descent(\n"
          ]
        }
      ]
    },
    {
      "cell_type": "markdown",
      "source": [
        "**Спостереження**\n",
        "\n",
        "В цих моделях спостерігаємо пенавчання: бічимо, що на тесті помилка в рази вища за помилку на трейні.\n",
        "\n",
        "Лінійна регресія без поліномів показала найкращій результат. Вона найкраще з усіх генералізує дані."
      ],
      "metadata": {
        "id": "3Al4JQx8MT5C"
      }
    },
    {
      "cell_type": "code",
      "source": [],
      "metadata": {
        "id": "VDBolKzCPJMa"
      },
      "execution_count": null,
      "outputs": []
    }
  ]
}